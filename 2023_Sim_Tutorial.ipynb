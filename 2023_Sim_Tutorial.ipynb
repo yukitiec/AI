{
  "cells": [
    {
      "cell_type": "markdown",
      "metadata": {
        "id": "view-in-github",
        "colab_type": "text"
      },
      "source": [
        "<a href=\"https://colab.research.google.com/github/yukitiec/AI/blob/main/2023_Sim_Tutorial.ipynb\" target=\"_parent\"><img src=\"https://colab.research.google.com/assets/colab-badge.svg\" alt=\"Open In Colab\"/></a>"
      ]
    },
    {
      "cell_type": "markdown",
      "source": [
        "# 0. Pythonを知る\n",
        "\n",
        "Pythonの基本\n",
        "1. Hello World!\n",
        "まず、伝統的な\"Hello, World!\"プログラムを作成してみましょう。"
      ],
      "metadata": {
        "id": "f3drJ-KstZ9X"
      }
    },
    {
      "cell_type": "code",
      "source": [
        "print(\"Hello, World!\")"
      ],
      "metadata": {
        "id": "C6KcLNP_t2va",
        "outputId": "1bef7f35-f392-4c1e-b393-2078367405a4",
        "colab": {
          "base_uri": "https://localhost:8080/"
        }
      },
      "execution_count": null,
      "outputs": [
        {
          "output_type": "stream",
          "name": "stdout",
          "text": [
            "Hello, World!\n"
          ]
        }
      ]
    },
    {
      "cell_type": "markdown",
      "source": [
        "2. 変数とデータ型\n",
        "変数はデータを保存するための箱です。Pythonは動的型付けをサポートしています。「#」を使うことで，コメントアウト（メモ書き）ができます."
      ],
      "metadata": {
        "id": "RCzocff_t4r9"
      }
    },
    {
      "cell_type": "code",
      "source": [
        "# 文字列\n",
        "name = \"John\"\n",
        "print(\"My name is\", name)\n",
        "\n",
        "# 整数\n",
        "age = 25\n",
        "print(\"I am\", age, \"years old\")\n",
        "\n",
        "# 浮動小数点数\n",
        "height = 175.5\n",
        "print(\"My height is\", height, \"cm\")"
      ],
      "metadata": {
        "id": "ye3S_pbnt9hb"
      },
      "execution_count": null,
      "outputs": []
    },
    {
      "cell_type": "markdown",
      "source": [
        "3. リストとループ\n",
        "リストは複数の要素を保持するためのデータ構造です。ループを使ってリストの中の要素にアクセスできます"
      ],
      "metadata": {
        "id": "_0yy2xBkuUKu"
      }
    },
    {
      "cell_type": "code",
      "source": [
        "# リスト\n",
        "fruits = [\"apple\", \"banana\", \"cherry\"]\n",
        "\n",
        "# ループ\n",
        "for fruit in fruits:\n",
        "    print(fruit)"
      ],
      "metadata": {
        "id": "L7Ts4kw3uY_G"
      },
      "execution_count": null,
      "outputs": []
    },
    {
      "cell_type": "markdown",
      "source": [
        "4. 条件文\n",
        "条件文を使用して、特定の条件が満たされているかどうかを確認できます。"
      ],
      "metadata": {
        "id": "j1uVdGNeubVt"
      }
    },
    {
      "cell_type": "code",
      "source": [
        "# 条件文\n",
        "x = 10\n",
        "\n",
        "if x > 5:\n",
        "    print(\"x is greater than 5\")\n",
        "else:\n",
        "    print(\"x is less than or equal to 5\")"
      ],
      "metadata": {
        "id": "JhrLSAn2ufDl"
      },
      "execution_count": null,
      "outputs": []
    },
    {
      "cell_type": "markdown",
      "source": [
        "5. 関数\n",
        "関数を定義して再利用可能なコードを作成できます。"
      ],
      "metadata": {
        "id": "de4eGuyTuhPr"
      }
    },
    {
      "cell_type": "code",
      "source": [
        "# 関数\n",
        "def greet(name):\n",
        "    print(\"Hello, \" + name + \"!\")\n",
        "\n",
        "# 関数の呼び出し\n",
        "greet(\"Alice\")"
      ],
      "metadata": {
        "id": "q5y58tsjugcK"
      },
      "execution_count": null,
      "outputs": []
    },
    {
      "cell_type": "markdown",
      "source": [
        "6. 外部ライブラリ　多言語同様に，便利なライブラリを利用したプログラム作成可能です．本来は「!pip install numpy」のようにインストールする必要がありますが，Google Colabでは多くの基本ライブラリがプリインストールされています．\n"
      ],
      "metadata": {
        "id": "iEKSVhVkvmnK"
      }
    },
    {
      "cell_type": "code",
      "source": [
        "# NumPyのインポート（呼び出し）\n",
        "import numpy as np\n",
        "\n",
        "# 1次元配列（ベクトル）の作成\n",
        "arr1 = np.array([1, 2, 3])\n",
        "print(\"1次元配列:\", arr1)\n",
        "\n",
        "# 2次元配列（行列）の作成\n",
        "arr2 = np.array([[1, 2, 3], [4, 5, 6]])\n",
        "print(\"2次元配列:\")\n",
        "print(arr2)"
      ],
      "metadata": {
        "id": "D443i1JIvzkO"
      },
      "execution_count": null,
      "outputs": []
    },
    {
      "cell_type": "code",
      "source": [
        "# 配列の形状（shape）の取得\n",
        "shape = arr2.shape\n",
        "print(\"形状:\", shape)\n",
        "\n",
        "# 配列の要素数（サイズ）の取得\n",
        "size = arr2.size\n",
        "print(\"要素数:\", size)\n",
        "\n",
        "# 特定の要素へのアクセス\n",
        "element = arr2[1, 2]  # 2行目、3列目の要素\n",
        "print(\"要素:\", element)"
      ],
      "metadata": {
        "id": "Dc8627XUwNWx"
      },
      "execution_count": null,
      "outputs": []
    },
    {
      "cell_type": "markdown",
      "source": [
        "これで、Pythonの基本的な概念を理解できるようになりました。続いて、標準ライブラリや他の高度なトピックにも挑戦してみると良いでしょう。オンラインのドキュメントや質問サイトも参照して、より深く学んでいくと良いでしょう"
      ],
      "metadata": {
        "id": "p-rZICL0uk2Y"
      }
    },
    {
      "cell_type": "markdown",
      "source": [
        "# 課題：Pythonでプログラムを作成しましょう\n",
        "\n",
        "例題：\n",
        "\n",
        "ユーザーに身長（メートル単位）と体重（キログラム単位）を入力させ、BMI（Body Mass Index）を計算するプログラムを作成してください。BMIの計算式は以下の通りです。\n",
        "\n",
        "BMI = (体重) / (身長)x(身長)\n",
        "\n",
        "BMIの値に基づいて以下の基準で体型を表示してください。\n",
        "\n",
        "*  BMI < 18.5: やせ型\n",
        "*  18.5 <= BMI < 25: 普通体重\n",
        "*  25 <= BMI < 30: 肥満（軽度）\n",
        "*  30 <= BMI: 肥満（重度）\n",
        "\n"
      ],
      "metadata": {
        "id": "rjz5xWlwwR_u"
      }
    },
    {
      "cell_type": "code",
      "source": [
        "# 回答欄：\n",
        "\n",
        "\n",
        "\n",
        "\n",
        "\n",
        "\n",
        "\n",
        "\n"
      ],
      "metadata": {
        "id": "o479hyC-xDZg"
      },
      "execution_count": null,
      "outputs": []
    },
    {
      "cell_type": "markdown",
      "source": [
        "回答例："
      ],
      "metadata": {
        "id": "7t0YfJwuxACK"
      }
    },
    {
      "cell_type": "code",
      "source": [
        "def calculate_bmi(height, weight):\n",
        "    bmi = weight / (height ** 2)\n",
        "    return bmi\n",
        "\n",
        "def determine_body_type(bmi):\n",
        "    if bmi < 18.5:\n",
        "        return \"やせ型\"\n",
        "    elif 18.5 <= bmi < 25:\n",
        "        return \"普通体重\"\n",
        "    elif 25 <= bmi < 30:\n",
        "        return \"肥満（軽度）\"\n",
        "    else:\n",
        "        return \"肥満（重度）\"\n",
        "\n",
        "# ユーザーから身長と体重の入力を受け取る\n",
        "height = float(input(\"身長（メートル単位）を入力してください: \"))\n",
        "weight = float(input(\"体重（キログラム単位）を入力してください: \"))\n",
        "\n",
        "# BMIを計算\n",
        "bmi_result = calculate_bmi(height, weight)\n",
        "\n",
        "# 体型を判定\n",
        "body_type = determine_body_type(bmi_result)\n",
        "\n",
        "# 結果を出力\n",
        "print(f\"BMIは {bmi_result:.2f} です。\")\n",
        "print(f\"あなたの体型は「{body_type}」です。\")"
      ],
      "metadata": {
        "id": "Heg4W2pqw945"
      },
      "execution_count": null,
      "outputs": []
    },
    {
      "cell_type": "markdown",
      "source": [
        "# 補足：Google Colabolatory\n",
        "Google Colab（Colaboratory）は、Googleが提供するクラウド上でPythonを実行できるノートブック環境です。以下は、Google Colabの基本的な使い方に関するチュートリアルです。\n",
        "\n",
        "1. Google Colabへのアクセス\n",
        "Google Colabにアクセスするには、Googleアカウントが必要です。ブラウザで以下のURLにアクセスしてください: Google Colab\n",
        "\n",
        "2. 新しいノートブックの作成\n",
        "左上の「ファイル」メニューから「新しいノートブック」を選択して新しいノートブックを作成します。\n",
        "\n",
        "3. セルの追加と実行\n",
        "Colabノートブックはセル（cell）単位で構成されています。セルにはテキストセルとコードセルがあります。新しいセルを追加するには、「+ コード」または「+ テキスト」ボタンをクリックします。\n",
        "\n",
        "* コードセルの実行: コードセルにPythonコードを書き込み、左にある実行ボタン（▶️）をクリックするか、Shift + Enter キーを押して実行します。\n",
        "\n",
        "4. マークダウンテキストの記述\n",
        "テキストセルでは、Markdown形式でテキストを書くことができます。Markdownはシンプルなマークアップ言語で、見出し、リスト、リンクなどを簡単に記述できます。\n",
        "\n",
        "5. ライブラリのインストール\n",
        "必要なPythonライブラリはColab環境で直接インストールできます。コードセルに !pip install ライブラリ名 と書いて実行することでインストールできます。\n",
        "\n",
        "6. Google Driveのマウント\n",
        "Google ColabではGoogle Driveを利用できます。Google Driveをマウントするには以下のコードセルを使用します。"
      ],
      "metadata": {
        "id": "0CV6105HuqQP"
      }
    },
    {
      "cell_type": "code",
      "source": [
        "# from google.colab import drive\n",
        "# drive.mount('/content/drive')"
      ],
      "metadata": {
        "id": "K-r7mX4AvB2n"
      },
      "execution_count": null,
      "outputs": []
    },
    {
      "cell_type": "markdown",
      "source": [
        "7. ファイルのアップロードとダウンロード\n",
        "Colab環境では、左のサイドバーから「ファイル」タブを選択すると、ファイルをアップロードまたはダウンロードできます。"
      ],
      "metadata": {
        "id": "Wt5lQXFQvFg8"
      }
    },
    {
      "cell_type": "markdown",
      "metadata": {
        "id": "nlELAlF_IsxK"
      },
      "source": [
        "# 1. シミュレータを用いたピンピッキングについて\n",
        "\n",
        "\n",
        "\n",
        "Jeffrey Mahler, Jacky Liang, Sherdil Niyaz, Michael Laskey, Richard Doan, Xinyu Liu, Juan Ojea, Ken Goldberg,\n",
        "*Dex-Net 2.0: Deep Learning to Plan Robust Grasps with Synthetic Point Clouds and Analytic Grasp Metrics*\n",
        "RSS 2017\n",
        "\n",
        "[[Dex-Net](https://berkeleyautomation.github.io/dex-net/)] [[paper](https://github.com/BerkeleyAutomation/dex-net/raw/gh-pages/docs/dexnet_rss2017_final.pdf)][[YouTune](https://youtu.be/i6K3GI2_EgU)]\n",
        "\n",
        "Dex-Net 2.0は、ロボットの操作能力を与える新しい可能性である。機械学習による把持獲得はロボティクスにおける一つの道を開いたことでしょう。\n",
        "この手法は、ディープラーニングと大規模な物体データセットを活用し、ロボットが異なる形状やサイズの物体をスムーズにつかむことができるようになりました。\n",
        "\n",
        "今回は，まずロボットのシミュレータを使ってみましょう．なお，Google Colabで実現可能な範囲に限定しています．"
      ]
    },
    {
      "cell_type": "markdown",
      "metadata": {
        "id": "1k6ziYJDRh_c"
      },
      "source": [
        "# 2. PyBulletを使う\n",
        "\n",
        "\n",
        "PyBullet（Python Bullet Physics）は、オープンソースの物理エンジンであるBullet PhysicsのPythonバインディングです。Bullet Physicsは、リアルタイムの物理シミュレーションやゲーム開発などの分野で広く使用されている強力な物理エンジンです。\n",
        "\n",
        "まずPyBulletモジュールをインストールし、その後、物理オブジェクトの生成、制御、シミュレーションの実行などをPythonコードを通じて行います。PyBulletはオープンソースであり、コミュニティによって活発にメンテナンスされています。\n",
        "\n",
        "シミュレーションを実行して，\n",
        "さらにレンダリング機能によって可視化を行う．\n",
        "\n",
        "* 参考：[HelloPyBullet!](https://colab.research.google.com/github/bulletphysics/bullet3/blob/656a1e74725933e947e5f64d465b62d6f9af683b/examples/pybullet/notebooks/HelloPyBullet.ipynb)\n",
        "* 参考：[PyBullet Quickstart Guide](https://docs.google.com/document/d/10sXEhzFRSnvFcl3XxNGhnD4N2SedqwdAvK3dsihxVUA/edit)"
      ]
    },
    {
      "cell_type": "code",
      "execution_count": null,
      "metadata": {
        "id": "29Ha8EGURO1n"
      },
      "outputs": [],
      "source": [
        "!sudo pip install -U pybullet"
      ]
    },
    {
      "cell_type": "code",
      "execution_count": null,
      "metadata": {
        "id": "L_7atcBfZouu"
      },
      "outputs": [],
      "source": [
        "import pybullet as p\n",
        "p.connect(p.DIRECT)\n",
        "import pybullet_data\n",
        "import numpy as np\n",
        "from PIL import Image\n",
        "from IPython.display import display\n",
        "from dataclasses import dataclass"
      ]
    },
    {
      "cell_type": "code",
      "execution_count": null,
      "metadata": {
        "id": "A1G24KmnRp-Y"
      },
      "outputs": [],
      "source": [
        "p.setAdditionalSearchPath(pybullet_data.getDataPath())\n",
        "\n",
        "# First, let's make sure we start with a fresh new simulation.\n",
        "# Otherwise, we can keep adding objects by running this cell over again.\n",
        "p.resetSimulation()\n",
        "\n",
        "# Load our simulation floor plane at the origin (0, 0, 0).\n",
        "p.loadURDF('plane.urdf')\n",
        "\n",
        "# Load an R2D2 droid at the position at 0.5 meters height in the z-axis.\n",
        "r2d2 = p.loadURDF('r2d2.urdf', [0, 0, 0.5])\n",
        "\n",
        "# We can check the number of bodies we have in the simulation.\n",
        "p.getNumBodies()\n",
        "\n",
        "@dataclass\n",
        "class Joint:\n",
        "  index: int\n",
        "  name: str\n",
        "  type: int\n",
        "  gIndex: int\n",
        "  uIndex: int\n",
        "  flags: int\n",
        "  damping: float\n",
        "  friction: float\n",
        "  lowerLimit: float\n",
        "  upperLimit: float\n",
        "  maxForce: float\n",
        "  maxVelocity: float\n",
        "  linkName: str\n",
        "  axis: tuple\n",
        "  parentFramePosition: tuple\n",
        "  parentFrameOrientation: tuple\n",
        "  parentIndex: int\n",
        "\n",
        "  def __post_init__(self):\n",
        "    self.name = str(self.name, 'utf-8')\n",
        "    self.linkName = str(self.linkName, 'utf-8')\n",
        "\n",
        "# Let's analyze the R2D2 droid!\n",
        "print(f\"r2d2 unique ID: {r2d2}\")\n",
        "for i in range(p.getNumJoints(r2d2)):\n",
        "  joint = Joint(*p.getJointInfo(r2d2, i))\n",
        "  print(joint)\n",
        "\n",
        "# Set the gravity to Earth's gravity.\n",
        "p.setGravity(0, 0, -9.807)\n",
        "\n",
        "# Run the simulation for a fixed amount of steps.\n",
        "for i in range(20):\n",
        "    position, orientation = p.getBasePositionAndOrientation(r2d2)\n",
        "    x, y, z = position\n",
        "    roll, pitch, yaw = p.getEulerFromQuaternion(orientation)\n",
        "    print(f\"{i:3}: x={x:0.10f}, y={y:0.10f}, z={z:0.10f}), roll={roll:0.10f}, pitch={pitch:0.10f}, yaw={yaw:0.10f}\")\n",
        "    p.stepSimulation()\n",
        "\n",
        "width = 320\n",
        "height = 200\n",
        "img_arr = p.getCameraImage(\n",
        "    width,\n",
        "    height,\n",
        "    viewMatrix=p.computeViewMatrixFromYawPitchRoll(\n",
        "        cameraTargetPosition=[0, 0, 0],\n",
        "        distance=4,\n",
        "        yaw=60,\n",
        "        pitch=-10,\n",
        "        roll=0,\n",
        "        upAxisIndex=2,\n",
        "    ),\n",
        "    projectionMatrix=p.computeProjectionMatrixFOV(\n",
        "        fov=60,\n",
        "        aspect=width/height,\n",
        "        nearVal=0.01,\n",
        "        farVal=100,\n",
        "    ),\n",
        "    shadow=True,\n",
        "    lightDirection=[1, 1, 1],\n",
        ")\n",
        "\n",
        "width, height, rgba, depth, mask = img_arr\n",
        "print(f\"rgba shape={rgba.shape}, dtype={rgba.dtype}\")\n",
        "display(Image.fromarray(rgba, 'RGBA'))\n",
        "print(f\"depth shape={depth.shape}, dtype={depth.dtype}, as values from 0.0 (near) to 1.0 (far)\")\n",
        "display(Image.fromarray((depth*255).astype('uint8')))\n",
        "print(f\"mask shape={mask.shape}, dtype={mask.dtype}, as unique values from 0 to N-1 entities, and -1 as None\")\n",
        "display(Image.fromarray(np.interp(mask, (-1, mask.max()), (0, 255)).astype('uint8')))"
      ]
    },
    {
      "cell_type": "markdown",
      "metadata": {
        "id": "aAIWEBzsokYz"
      },
      "source": [
        "# 3. PickingSimulation\n",
        "環境構築および動作検証編\n",
        "\n",
        "[PyBulletビンピッキングシミュレータ](https://sites.google.com/view/sice-si-manipulation/Wakate/Research?authuser=0)\n",
        "\n",
        "\n",
        "\n",
        "*   Google Colabの使用変更に伴って、Tensorflow 1.x系が使用不可になった。それに伴い、GQ-CNNが使えない状況である。\n",
        "*   マニュアルにて把持位置を設定すれば実行可能．\n",
        "\n"
      ]
    },
    {
      "cell_type": "markdown",
      "metadata": {
        "id": "VEvkldxbgMEP"
      },
      "source": [
        "## 3.1 インストール"
      ]
    },
    {
      "cell_type": "markdown",
      "metadata": {
        "id": "H01FX9w_qy7w"
      },
      "source": [
        "1. gqcnn (https://github.com/BerkeleyAutomation/gqcnn)"
      ]
    },
    {
      "cell_type": "code",
      "execution_count": null,
      "metadata": {
        "id": "lP4DRe6Lot5J"
      },
      "outputs": [],
      "source": [
        "# !git clone https://github.com/BerkeleyAutomation/gqcnn.git\n",
        "!git clone https://github.com/k-makihara/gqcnn.git\n",
        "\n",
        "path = '/content/gqcnn'\n",
        "import os\n",
        "os.chdir(path) #作業ディレクトリをpathに移動する\n",
        "!pip install ."
      ]
    },
    {
      "cell_type": "markdown",
      "metadata": {
        "id": "XBoS-ihYqq6B"
      },
      "source": [
        "2. pybullet (https://github.com/csingh27/Bin-Picking-Simulation-using-Pybullet 参考)"
      ]
    },
    {
      "cell_type": "code",
      "execution_count": null,
      "metadata": {
        "id": "NL7Lv5q1qjn0"
      },
      "outputs": [],
      "source": [
        "!pip install --user gym\n",
        "!pip install attrdict\n",
        "!git clone https://github.com/sice-manip-young/PickingSimulation.git\n",
        "os.chdir('/content/gqcnn/PickingSimulation')"
      ]
    },
    {
      "cell_type": "code",
      "execution_count": null,
      "metadata": {
        "id": "ANsXmruBLMAp"
      },
      "outputs": [],
      "source": [
        "import pybullet as p\n",
        "import pybullet_data as pd\n",
        "import time\n",
        "from copy import deepcopy\n",
        "import numpy as np\n",
        "import cv2\n",
        "from tqdm import tqdm\n",
        "from simulator import panda_sim_grasp as panda_sim\n",
        "import matplotlib.pyplot as plt\n",
        "from PIL import Image\n",
        "# import planner # TODO"
      ]
    },
    {
      "cell_type": "markdown",
      "metadata": {
        "id": "SIexDZy1gEvX"
      },
      "source": [
        "## 3.2. Parameter setup"
      ]
    },
    {
      "cell_type": "code",
      "execution_count": null,
      "metadata": {
        "id": "SMKyPSVQbfhV"
      },
      "outputs": [],
      "source": [
        "timeStep = 1./240.\n",
        "captureImageShape = (400,400)\n",
        "modelName = 'GQCNN-2.0'\n",
        "resetDebugVisualizerCameraParameter = dict(cameraDistance=1.3, cameraYaw=38, cameraPitch=-22, cameraTargetPosition=[0.35,-0.13,0])\n",
        "viewMatrix = p.computeViewMatrix(cameraEyePosition=[0, 0.6, -0.5999], cameraTargetPosition=[0, 0, -0.6], cameraUpVector=[0, 1, 0])\n",
        "projectionNearVal = 0.006\n",
        "projectionFarVal = 0.6\n",
        "projectionFov = 45\n",
        "# policyMode = 'manual' #'plan'or'manual' # TODO\n",
        "policyMode = 'manual' #'plan'or'manual'"
      ]
    },
    {
      "cell_type": "markdown",
      "metadata": {
        "id": "tiQyUnKigJMg"
      },
      "source": [
        "## 3.3. Pybullet init setup"
      ]
    },
    {
      "cell_type": "code",
      "execution_count": null,
      "metadata": {
        "id": "CVjVHkrMbnuh"
      },
      "outputs": [],
      "source": [
        "p.connect(p.DIRECT) # ローカル実行の場合は p.GUI でよい．\n",
        "p.configureDebugVisualizer(p.COV_ENABLE_Y_AXIS_UP,1)\n",
        "p.configureDebugVisualizer(p.COV_ENABLE_GUI,1)\n",
        "p.configureDebugVisualizer(p.COV_ENABLE_DEPTH_BUFFER_PREVIEW,1)\n",
        "p.configureDebugVisualizer(p.COV_ENABLE_SEGMENTATION_MARK_PREVIEW,1)\n",
        "p.setPhysicsEngineParameter(maxNumCmdPer1ms=1000)\n",
        "p.resetDebugVisualizerCamera(**resetDebugVisualizerCameraParameter)\n",
        "p.setAdditionalSearchPath(pd.getDataPath())\n",
        "p.setTimeStep(timeStep) # 処理時間(デルタ)\n",
        "p.setGravity(0,-9.8,0)  # 重力の設定"
      ]
    },
    {
      "cell_type": "markdown",
      "metadata": {
        "id": "5m_WDWqzgUWJ"
      },
      "source": [
        "## 3.4. Panda simulator for initial setup"
      ]
    },
    {
      "cell_type": "code",
      "execution_count": null,
      "metadata": {
        "id": "5-85ocpNbrzx"
      },
      "outputs": [],
      "source": [
        "# Panda simulator instance init setup\n",
        "panda = panda_sim.PandaSimAuto(p)\n",
        "panda.control_dt = timeStep\n",
        "\n",
        "### Capture camera image\n",
        "projectionMatrix = p.computeProjectionMatrixFOV(fov=projectionFov, aspect=1.*captureImageShape[0]/captureImageShape[1], nearVal=projectionNearVal, farVal=projectionFarVal)\n",
        "_,_,rgbaImage,depthImage,segmentImage = p.getCameraImage(*captureImageShape, viewMatrix=viewMatrix, projectionMatrix=projectionMatrix)\n",
        "depthImage = np.expand_dims(depthImage, -1)\n",
        "depthImage = projectionFarVal * projectionNearVal / (projectionFarVal - (projectionFarVal - projectionNearVal) * depthImage)\n",
        "segmentImage = np.array(segmentImage*255, np.uint8)\n",
        "bgrImage = rgbaImage[:,:,[2,1,0]]\n",
        "\n",
        "plt.subplot(121,  title=\"box scene\")\n",
        "plt.imshow(bgrImage)\n",
        "plt.subplot(122,  title=\"depth\")\n",
        "plt.imshow(depthImage)\n",
        "plt.show()"
      ]
    },
    {
      "cell_type": "code",
      "execution_count": null,
      "metadata": {
        "id": "IgzvFz75bxmb"
      },
      "outputs": [],
      "source": [
        "### Convert 'px' to 'm'\n",
        "def pxxy2mxy(posPxXY):\n",
        "    #Todo: modify to analitical calculation\n",
        "\tlBottomX = 0.15384\n",
        "\tuTopY = -0.44654\n",
        "\tdxDpx = 0.00038461\n",
        "\tdyDpy = 0.00038461\n",
        "\tposX = lBottomX - dxDpx * posPxXY[0]\n",
        "\tposY = uTopY - dyDpy * posPxXY[1]\n",
        "\treturn [posX, posY]"
      ]
    },
    {
      "cell_type": "markdown",
      "metadata": {
        "id": "mdBa-NGHgaeB"
      },
      "source": [
        "## 3.5. Generate policy\n",
        "\n",
        "*   GQCNNが使えないので，マニュアルで入力する形式として実現している．\n",
        "*   物体の変更に対応するようにしたいが間に合わない？"
      ]
    },
    {
      "cell_type": "code",
      "execution_count": null,
      "metadata": {
        "id": "Ql12vJ7Yb7p6"
      },
      "outputs": [],
      "source": [
        "# ToDo\n",
        "#if policyMode == 'random':\n",
        "#\tpolicy = gen_random_policy(depthImage, segmentImage)\n",
        "# if policyMode == 'plan':\n",
        "#     graspAction = planner.plan(baseDir,modelName,'./data/images/depth.npy','./data/images/segmask.png','./data/intr/camera.intr')\n",
        "#     posXY = pxxy2mxy(graspAction.center)\n",
        "#     posZ = projectionFarVal - projectionNearVal - graspAction.depth\n",
        "#     radZ = graspAction.angle\n",
        "#     policy = [posXY, posZ, radZ]\n",
        "\n",
        "if policyMode == 'manual':\n",
        "\tposXY = pxxy2mxy([200,200]) # 画像中にある把持位置を指定しましょう．\n",
        "\tposZ = 0.03\n",
        "\tradZ = 0.7\n",
        "\tpolicy = [posXY, posZ, radZ]\n",
        "panda.set_policy(policy)"
      ]
    },
    {
      "cell_type": "markdown",
      "metadata": {
        "id": "Ji7owJlCgdLo"
      },
      "source": [
        "## 3.6. Run simulation\n",
        "\n",
        "内部でシミュレート.\n",
        "GIFで動画として出力するようにアレンジしている．"
      ]
    },
    {
      "cell_type": "code",
      "execution_count": null,
      "metadata": {
        "id": "hNNn22CRcPl4"
      },
      "outputs": [],
      "source": [
        "frame = []\n",
        "print (\"Execute simulation. \")\n",
        "for t in tqdm(range(640)):\n",
        "\tpanda.step()\n",
        "\tp.stepSimulation()\n",
        "\ttime.sleep(timeStep)\n",
        "\tpanda.bullet_client.submitProfileTiming()\n",
        "\n",
        "\tif t % 8 == 0:\n",
        "\t\t\t\t_,_,rgbaImage,depthImage,segmentImage = p.getCameraImage(*captureImageShape, viewMatrix=viewMatrix, projectionMatrix=projectionMatrix)\n",
        "\t\t\t\tdepthImage = np.expand_dims(depthImage, -1)\n",
        "\t\t\t\tdepthImage = projectionFarVal * projectionNearVal / (projectionFarVal - (projectionFarVal - projectionNearVal) * depthImage)\n",
        "\t\t\t\tsegmentImage = np.array(segmentImage*255, np.uint8)\n",
        "\t\t\t\tbgrImage = rgbaImage[:,:,[2,1,0]]\n",
        "\t\t\t\tframe.append(bgrImage)\n",
        "\n",
        "images = []\n",
        "for im in frame:\n",
        "  img = Image.fromarray(im)\n",
        "  images.append(img)\n",
        "images[0].save('picking_simulator.gif',save_all=True, append_images=images[:], optimize=False, duration=100, loop=0)"
      ]
    },
    {
      "cell_type": "code",
      "execution_count": null,
      "metadata": {
        "id": "WlIHBvqqnRZ8"
      },
      "outputs": [],
      "source": [
        "import IPython\n",
        "out_filename = 'picking_simulator.gif'\n",
        "IPython.display.Image(out_filename, format='png')"
      ]
    },
    {
      "cell_type": "markdown",
      "source": [
        "# 4. 追加\n",
        "\n",
        "Pytorch版のGQCNN:\n",
        "\n",
        "* https://github.com/sice-manip-young/Pytorch-GQCNN/tree/main\n",
        "\n",
        "以下にモデルのダウンロードが可能です．\n",
        "\n",
        "* https://drive.google.com/drive/folders/1sLaGDFVBcZlAS-ANtmPgYv93Vq10mrR9"
      ],
      "metadata": {
        "id": "9Sjf21z4reZJ"
      }
    },
    {
      "cell_type": "code",
      "source": [
        "import os\n",
        "path = '/content/'\n",
        "os.chdir(path)\n",
        "!git clone https://github.com/sice-manip-young/Pytorch-GQCNN.git\n",
        "os.chdir('/content/Pytorch-GQCNN')"
      ],
      "metadata": {
        "id": "4Ir3qQ4grasH"
      },
      "execution_count": null,
      "outputs": []
    },
    {
      "cell_type": "code",
      "source": [
        "os.makedirs('/content/Pytorch-GQCNN/data', exist_ok=True)\n",
        "# !wget -c -O /content/Pytorch-GQCNN/data/dexnet_2.zip https://berkeley.box.com/shared/static/15oid8m9q6n9cvr8og4vm37bwghjjslp.zip\n",
        "!unzip /content/Pytorch-GQCNN/data/dexnet_2.zip\n",
        "#!mv dexnet_2_tensor dex-net_2.0"
      ],
      "metadata": {
        "id": "-EvyYpZ1s95V"
      },
      "execution_count": null,
      "outputs": []
    },
    {
      "cell_type": "code",
      "source": [
        "os.makedirs('/content/Pytorch-GQCNN/saved_model', exist_ok=True)\n",
        "# !wget -O  /content/Pytorch-GQCNN/saved_model/GQCNN-2.0.zip https://berkeley.box.com/shared/static/j4k4z6077ytucxpo6wk1c5hwj47mmpux.zip\n",
        "!tar zxvf  /content/Pytorch-GQCNN/saved_model/GQCNN-2.0.zip\n",
        "#!mv GQ-Image-Wise GQCNN-2.0"
      ],
      "metadata": {
        "id": "osyivNjGzMLn"
      },
      "execution_count": null,
      "outputs": []
    },
    {
      "cell_type": "markdown",
      "source": [
        "Train"
      ],
      "metadata": {
        "id": "NAYlfN-UzUiB"
      }
    },
    {
      "cell_type": "code",
      "source": [
        "!python train.py --lr 0.01 --batch_size 128 --n_iterations 10000"
      ],
      "metadata": {
        "id": "eZ_1ozwIzQv9"
      },
      "execution_count": null,
      "outputs": []
    },
    {
      "cell_type": "markdown",
      "source": [
        "Evaluation"
      ],
      "metadata": {
        "id": "PFdWExzdzY1n"
      }
    },
    {
      "cell_type": "code",
      "source": [
        "!python eval.py"
      ],
      "metadata": {
        "id": "OBYESPFGzXMB"
      },
      "execution_count": null,
      "outputs": []
    }
  ],
  "metadata": {
    "accelerator": "GPU",
    "colab": {
      "provenance": [],
      "include_colab_link": true
    },
    "kernelspec": {
      "display_name": "Python 3",
      "name": "python3"
    },
    "language_info": {
      "name": "python"
    }
  },
  "nbformat": 4,
  "nbformat_minor": 0
}