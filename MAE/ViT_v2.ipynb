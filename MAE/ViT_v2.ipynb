{
 "cells": [
  {
   "cell_type": "code",
   "execution_count": 28,
   "metadata": {},
   "outputs": [],
   "source": [
    "import math\n",
    "import random\n",
    "\n",
    "import numpy as np\n",
    "import torch\n",
    "import torch.nn as nn\n",
    "import torch.optim as optim\n",
    "import torch.nn.functional as F\n",
    "from torchvision import datasets, transforms\n",
    "from einops.layers.torch import Rearrange\n",
    "from einops import rearrange\n",
    "import os\n",
    "import cv2\n",
    "import matplotlib.pyplot as plt\n",
    "\n",
    "#original module\n",
    "from loadData import Dataset\n",
    "import mae \n",
    "import cosine_scheduler as sche\n",
    "import evaluation_reconstruction as eva"
   ]
  },
  {
   "cell_type": "code",
   "execution_count": 15,
   "metadata": {},
   "outputs": [],
   "source": [
    "## シード値の設定\n",
    "def set_seed(seed):\n",
    "    random.seed(seed)\n",
    "    np.random.seed(seed)\n",
    "    torch.manual_seed(seed)\n",
    "    torch.cuda.manual_seed(seed)\n",
    "    torch.cuda.manual_seed_all(seed)\n",
    "    torch.backends.cudnn.deterministic = True\n",
    "    torch.backends.cudnn.benchmark = False\n",
    "\n",
    "\n",
    "set_seed(42)"
   ]
  },
  {
   "cell_type": "markdown",
   "metadata": {},
   "source": [
    "# Preprocess"
   ]
  },
  {
   "cell_type": "markdown",
   "metadata": {},
   "source": [
    "## load data"
   ]
  },
  {
   "cell_type": "code",
   "execution_count": 18,
   "metadata": {},
   "outputs": [
    {
     "name": "stdout",
     "output_type": "stream",
     "text": [
      "[[1\n",
      "  'C:\\\\Users\\\\Furukawa\\\\Documents\\\\TechAssistant\\\\dataset\\\\imgs\\\\20230823\\\\IR1000_B500_S100\\\\36\\\\concat_MAE_spatterframe_estimation\\\\196.jpg']\n",
      " [1\n",
      "  'C:\\\\Users\\\\Furukawa\\\\Documents\\\\TechAssistant\\\\dataset\\\\imgs\\\\20230823\\\\IR1000_B500_S100\\\\42\\\\concat_MAE_spatterframe_estimation\\\\404.jpg']]\n",
      "spatter label : : train : 19/19, valid : 1/1 test : 2/2\n",
      "length of dataset is  19\n",
      "image data shape :  (19, 243, 243)\n",
      "length of dataset is  1\n",
      "image data shape :  (1, 243, 243)\n",
      "length of dataset is  2\n",
      "image data shape :  (2, 243, 243)\n"
     ]
    }
   ],
   "source": [
    "SRC_TRAIN=r\"C:\\Users\\Furukawa\\Documents\\TechAssistant\\dataset\\csv\\ViT\\MAE_spatterframe_estimation\\train_IR1000_B500_S100.csv\"\n",
    "SRC_TEST=r\"C:\\Users\\Furukawa\\Documents\\TechAssistant\\dataset\\csv\\ViT\\MAE_spatterframe_estimation\\test_IR1000_B500_S100.csv\"\n",
    "#SRC_TRAIN=r\"C:\\Users\\Furukawa\\Documents\\TechAssistant\\dataset\\csv\\ViT\\MAE_spatterframe_estimation\\train.csv\"\n",
    "#SRC_TEST=r\"C:\\Users\\Furukawa\\Documents\\TechAssistant\\dataset\\csv\\ViT\\MAE_spatterframe_estimation\\test.csv\"\n",
    "\n",
    "SCALE_X = 243/240\n",
    "SCALE_Y = 243/240\n",
    "IMG_SIZE = 240\n",
    "\n",
    "dataset = Dataset(scale_x = SCALE_X,scale_y = SCALE_Y,img_size=IMG_SIZE,src_train=SRC_TRAIN,src_test=SRC_TEST)\n",
    "img_train = dataset.img_train\n",
    "label_train = dataset.label_train\n",
    "img_valid = dataset.img_valid\n",
    "label_valid = dataset.label_valid\n",
    "img_test = dataset.img_test\n",
    "label_test = dataset.label_test"
   ]
  },
  {
   "cell_type": "markdown",
   "metadata": {},
   "source": [
    "## make dataloader"
   ]
  },
  {
   "cell_type": "code",
   "execution_count": 19,
   "metadata": {},
   "outputs": [],
   "source": [
    "batch_size = 1\n",
    "\n",
    "train_dl = torch.utils.data.DataLoader(\n",
    "    img_train,\n",
    "    batch_size=batch_size,\n",
    ")\n",
    "\n",
    "valid_dl = torch.utils.data.DataLoader(\n",
    "    img_valid,\n",
    "    batch_size=batch_size,\n",
    ")\n",
    "test_dl = torch.utils.data.DataLoader(\n",
    "    img_test,\n",
    "    batch_size=2#batch_size,\n",
    ")\n"
   ]
  },
  {
   "cell_type": "markdown",
   "metadata": {},
   "source": [
    "## load MAE model "
   ]
  },
  {
   "cell_type": "markdown",
   "metadata": {},
   "source": [
    "### Hyperparameters"
   ]
  },
  {
   "cell_type": "markdown",
   "metadata": {},
   "source": [
    "### for 27*27patches"
   ]
  },
  {
   "cell_type": "code",
   "execution_count": 20,
   "metadata": {},
   "outputs": [],
   "source": [
    "# ハイパーパラメータの設定\n",
    "\n",
    "config = {\n",
    "    \"image_size\": [243, 243], # original image size\n",
    "    \"patch_size\": [9, 9], #size of 1 patch :: [height, width], default :: if 27*27 patches -> [9,9], 81*81 patches -> [3,3]\n",
    "    \"emb_dim\": 128,#embedding dimensions :: vector dimension per 1 patch\n",
    "    \"enc_layers\": 12, #encoder :: number of dense layers\n",
    "    \"enc_heads\": 2,# encoder :: number of attention heads :: enc_heads*enc_dim_head = enc_mlp_dim\n",
    "    \"enc_dim_head\": 64,#encoder :: attention head dimension :: default = 64\n",
    "    \"enc_mlp_dim\": 128,#encoder :: dimension of multiple perceptron layers(= dense layer) default :: 192,\n",
    "    \"dec_layers\": 4, # number of dense layers in decoder\n",
    "    \"dec_heads\": 2,# number of attention heads :: dec_heads * dec_dim_head = dec_mlp_dim seems to be good equation\n",
    "    \"dec_dim_head\": 64, #decoder attention head dimension :: default = 64\n",
    "    \"dec_mlp_dim\":128,#decoder dimenstion of multiple layer perceptron :: default = 128\n",
    "    \"numPatches\":27,#number of patches :: 27 or 81\n",
    "    \"mask_ratio\": 1/9, #mask ratio :: how much ratio is masked to a image :: default -> only last frame(spatter frame) is masked\n",
    "    \"dropout\": 0. #dense layer :: dropout rate\n",
    "}"
   ]
  },
  {
   "cell_type": "markdown",
   "metadata": {},
   "source": [
    "### for 81*81patches"
   ]
  },
  {
   "cell_type": "code",
   "execution_count": 38,
   "metadata": {},
   "outputs": [],
   "source": [
    "\n",
    "config = {\n",
    "    \"image_size\": [243, 243], # original image size\n",
    "    \"patch_size\": [3, 3], #size of 1 patch :: [height, width], default :: if 27*27 patches -> [9,9], 81*81 patches -> [3,3]\n",
    "    \"emb_dim\": 27,#embedding dimensions :: vector dimension per 1 patch\n",
    "    \"enc_layers\": 4, #encoder :: number of dense layers\n",
    "    \"enc_heads\": 3,# encoder :: number of attention heads :: enc_heads*enc_dim_head = enc_mlp_dim\n",
    "    \"enc_dim_head\": 9,#encoder :: attention head dimension :: default = 64\n",
    "    \"enc_mlp_dim\": 27,#encoder :: dimension of multiple perceptron layers(= dense layer) default :: 192,\n",
    "    \"dec_layers\": 4, # number of dense layers in decoder\n",
    "    \"dec_heads\": 3,# number of attention heads :: dec_heads * dec_dim_head = dec_mlp_dim seems to be good equation\n",
    "    \"dec_dim_head\": 9, #decoder attention head dimension :: default = 64\n",
    "    \"dec_mlp_dim\":27,#decoder dimenstion of multiple layer perceptron :: default = 128\n",
    "    \"numPatches\":81,#number of patches :: 27 or 81\n",
    "    \"mask_ratio\": 1/9, #mask ratio :: how much ratio is masked to a image :: default -> only last frame(spatter frame) is masked\n",
    "    \"dropout\": 0. #dense layer :: dropout rate\n",
    "}"
   ]
  },
  {
   "cell_type": "code",
   "execution_count": 39,
   "metadata": {},
   "outputs": [
    {
     "name": "stdout",
     "output_type": "stream",
     "text": [
      "cuda\n"
     ]
    }
   ],
   "source": [
    "# モデルの定義\n",
    "device = \"cuda\" if torch.cuda.is_available() else \"cpu\"\n",
    "print(device)\n",
    "model = mae.MAE_ViT(**config).to(device)"
   ]
  },
  {
   "cell_type": "markdown",
   "metadata": {},
   "source": [
    "# Trainer of MAE"
   ]
  },
  {
   "cell_type": "markdown",
   "metadata": {},
   "source": [
    "## train setting"
   ]
  },
  {
   "cell_type": "code",
   "execution_count": 40,
   "metadata": {},
   "outputs": [],
   "source": [
    "epochs = 1000\n",
    "lr = 0.01\n",
    "warmup_length = 30\n",
    "step_count = 0\n",
    "optimizer = optim.AdamW(model.parameters(), lr=lr, betas=(0.9, 0.95), weight_decay=0.05)\n",
    "lr_plan = sche.CosineScheduler(epochs, lr, warmup_length=warmup_length)\n",
    "\n",
    "SaveDir = r\"C:\\Users\\Furukawa\\Documents\\TechAssistant\\ML_results\\vit\""
   ]
  },
  {
   "cell_type": "code",
   "execution_count": 41,
   "metadata": {},
   "outputs": [],
   "source": [
    "def set_lr(lr, optimizer):\n",
    "    for param_group in optimizer.param_groups:\n",
    "        param_group[\"lr\"] = lr"
   ]
  },
  {
   "cell_type": "code",
   "execution_count": 42,
   "metadata": {},
   "outputs": [
    {
     "name": "stdout",
     "output_type": "stream",
     "text": [
      "Epoch[1 / 1000] Train Loss: 0.7273 Valid Loss: 0.5263\n",
      "Epoch[2 / 1000] Train Loss: 0.3578 Valid Loss: 0.2610\n",
      "Epoch[3 / 1000] Train Loss: 0.1551 Valid Loss: 0.0925\n",
      "Epoch[4 / 1000] Train Loss: 0.0554 Valid Loss: 0.0638\n",
      "Epoch[5 / 1000] Train Loss: 0.0619 Valid Loss: 0.0787\n",
      "Epoch[6 / 1000] Train Loss: 0.0680 Valid Loss: 0.1050\n",
      "Epoch[7 / 1000] Train Loss: 0.0647 Valid Loss: 0.0571\n",
      "Epoch[8 / 1000] Train Loss: 0.0401 Valid Loss: 0.0546\n",
      "Epoch[9 / 1000] Train Loss: 0.0412 Valid Loss: 0.0653\n",
      "Epoch[10 / 1000] Train Loss: 0.0497 Valid Loss: 0.0598\n",
      "Epoch[11 / 1000] Train Loss: 0.0341 Valid Loss: 0.0442\n",
      "Epoch[12 / 1000] Train Loss: 0.0294 Valid Loss: 0.0478\n",
      "Epoch[13 / 1000] Train Loss: 0.0334 Valid Loss: 0.0490\n",
      "Epoch[14 / 1000] Train Loss: 0.0285 Valid Loss: 0.0388\n",
      "Epoch[15 / 1000] Train Loss: 0.0236 Valid Loss: 0.0377\n",
      "Epoch[16 / 1000] Train Loss: 0.0240 Valid Loss: 0.0336\n",
      "Epoch[17 / 1000] Train Loss: 0.0202 Valid Loss: 0.0247\n",
      "Epoch[18 / 1000] Train Loss: 0.0165 Valid Loss: 0.0214\n",
      "Epoch[19 / 1000] Train Loss: 0.0161 Valid Loss: 0.0177\n",
      "Epoch[20 / 1000] Train Loss: 0.0141 Valid Loss: 0.0154\n",
      "Epoch[21 / 1000] Train Loss: 0.0218 Valid Loss: 0.0256\n",
      "Epoch[22 / 1000] Train Loss: 0.0167 Valid Loss: 0.0206\n",
      "Epoch[23 / 1000] Train Loss: 0.0165 Valid Loss: 0.0127\n",
      "Epoch[24 / 1000] Train Loss: 0.0126 Valid Loss: 0.0149\n",
      "Epoch[25 / 1000] Train Loss: 0.0124 Valid Loss: 0.0106\n",
      "Epoch[26 / 1000] Train Loss: 0.0126 Valid Loss: 0.0107\n",
      "Epoch[27 / 1000] Train Loss: 0.0106 Valid Loss: 0.0114\n",
      "Epoch[28 / 1000] Train Loss: 0.0096 Valid Loss: 0.0111\n",
      "Epoch[29 / 1000] Train Loss: 0.0135 Valid Loss: 0.0146\n",
      "Epoch[30 / 1000] Train Loss: 0.0177 Valid Loss: 0.0112\n",
      "Epoch[31 / 1000] Train Loss: 0.0124 Valid Loss: 0.0149\n",
      "Epoch[32 / 1000] Train Loss: 0.0116 Valid Loss: 0.0106\n",
      "Epoch[33 / 1000] Train Loss: 0.0109 Valid Loss: 0.0125\n",
      "Epoch[34 / 1000] Train Loss: 0.0103 Valid Loss: 0.0117\n",
      "Epoch[35 / 1000] Train Loss: 0.0098 Valid Loss: 0.0099\n",
      "Epoch[36 / 1000] Train Loss: 0.0101 Valid Loss: 0.0101\n",
      "Epoch[37 / 1000] Train Loss: 0.0105 Valid Loss: 0.0087\n",
      "Epoch[38 / 1000] Train Loss: 0.0091 Valid Loss: 0.0102\n",
      "Epoch[39 / 1000] Train Loss: 0.0088 Valid Loss: 0.0089\n",
      "Epoch[40 / 1000] Train Loss: 0.0088 Valid Loss: 0.0097\n",
      "Epoch[41 / 1000] Train Loss: 0.0089 Valid Loss: 0.0101\n",
      "Epoch[42 / 1000] Train Loss: 0.0104 Valid Loss: 0.0099\n",
      "Epoch[43 / 1000] Train Loss: 0.0086 Valid Loss: 0.0084\n",
      "Epoch[44 / 1000] Train Loss: 0.0084 Valid Loss: 0.0091\n",
      "Epoch[45 / 1000] Train Loss: 0.0091 Valid Loss: 0.0083\n",
      "Epoch[46 / 1000] Train Loss: 0.0080 Valid Loss: 0.0103\n",
      "Epoch[47 / 1000] Train Loss: 0.0094 Valid Loss: 0.0095\n",
      "Epoch[48 / 1000] Train Loss: 0.0077 Valid Loss: 0.0076\n",
      "Epoch[49 / 1000] Train Loss: 0.0067 Valid Loss: 0.0089\n",
      "Epoch[50 / 1000] Train Loss: 0.0083 Valid Loss: 0.0091\n",
      "Epoch[51 / 1000] Train Loss: 0.0069 Valid Loss: 0.0082\n",
      "Epoch[52 / 1000] Train Loss: 0.0071 Valid Loss: 0.0060\n",
      "Epoch[53 / 1000] Train Loss: 0.0061 Valid Loss: 0.0047\n",
      "Epoch[54 / 1000] Train Loss: 0.0052 Valid Loss: 0.0087\n",
      "Epoch[55 / 1000] Train Loss: 0.0047 Valid Loss: 0.0074\n",
      "Epoch[56 / 1000] Train Loss: 0.0049 Valid Loss: 0.0066\n",
      "Epoch[57 / 1000] Train Loss: 0.0051 Valid Loss: 0.0066\n",
      "Epoch[58 / 1000] Train Loss: 0.0041 Valid Loss: 0.0041\n",
      "Epoch[59 / 1000] Train Loss: 0.0039 Valid Loss: 0.0054\n",
      "Epoch[60 / 1000] Train Loss: 0.0043 Valid Loss: 0.0083\n",
      "Epoch[61 / 1000] Train Loss: 0.0040 Valid Loss: 0.0051\n",
      "Epoch[62 / 1000] Train Loss: 0.0056 Valid Loss: 0.0078\n",
      "Epoch[63 / 1000] Train Loss: 0.0052 Valid Loss: 0.0064\n",
      "Epoch[64 / 1000] Train Loss: 0.0047 Valid Loss: 0.0051\n",
      "Epoch[65 / 1000] Train Loss: 0.0038 Valid Loss: 0.0075\n",
      "Epoch[66 / 1000] Train Loss: 0.0050 Valid Loss: 0.0061\n",
      "Epoch[67 / 1000] Train Loss: 0.0033 Valid Loss: 0.0060\n",
      "Epoch[68 / 1000] Train Loss: 0.0037 Valid Loss: 0.0041\n",
      "Epoch[69 / 1000] Train Loss: 0.0032 Valid Loss: 0.0047\n",
      "Epoch[70 / 1000] Train Loss: 0.0027 Valid Loss: 0.0054\n",
      "Epoch[71 / 1000] Train Loss: 0.0033 Valid Loss: 0.0041\n",
      "Epoch[72 / 1000] Train Loss: 0.0032 Valid Loss: 0.0052\n",
      "Epoch[73 / 1000] Train Loss: 0.0032 Valid Loss: 0.0065\n",
      "Epoch[74 / 1000] Train Loss: 0.0040 Valid Loss: 0.0114\n",
      "Epoch[75 / 1000] Train Loss: 0.0029 Valid Loss: 0.0036\n",
      "Epoch[76 / 1000] Train Loss: 0.0035 Valid Loss: 0.0051\n",
      "Epoch[77 / 1000] Train Loss: 0.0031 Valid Loss: 0.0090\n",
      "Epoch[78 / 1000] Train Loss: 0.0024 Valid Loss: 0.0041\n",
      "Epoch[79 / 1000] Train Loss: 0.0026 Valid Loss: 0.0073\n",
      "Epoch[80 / 1000] Train Loss: 0.0031 Valid Loss: 0.0095\n",
      "Epoch[81 / 1000] Train Loss: 0.0037 Valid Loss: 0.0034\n",
      "Epoch[82 / 1000] Train Loss: 0.0027 Valid Loss: 0.0040\n",
      "Epoch[83 / 1000] Train Loss: 0.0020 Valid Loss: 0.0082\n",
      "Epoch[84 / 1000] Train Loss: 0.0032 Valid Loss: 0.0050\n",
      "Epoch[85 / 1000] Train Loss: 0.0025 Valid Loss: 0.0043\n",
      "Epoch[86 / 1000] Train Loss: 0.0023 Valid Loss: 0.0036\n",
      "Epoch[87 / 1000] Train Loss: 0.0019 Valid Loss: 0.0045\n",
      "Epoch[88 / 1000] Train Loss: 0.0016 Valid Loss: 0.0053\n",
      "Epoch[89 / 1000] Train Loss: 0.0020 Valid Loss: 0.0098\n",
      "Epoch[90 / 1000] Train Loss: 0.0025 Valid Loss: 0.0032\n",
      "Epoch[91 / 1000] Train Loss: 0.0027 Valid Loss: 0.0061\n",
      "Epoch[92 / 1000] Train Loss: 0.0024 Valid Loss: 0.0034\n",
      "Epoch[93 / 1000] Train Loss: 0.0021 Valid Loss: 0.0069\n",
      "Epoch[94 / 1000] Train Loss: 0.0017 Valid Loss: 0.0047\n",
      "Epoch[95 / 1000] Train Loss: 0.0017 Valid Loss: 0.0061\n",
      "Epoch[96 / 1000] Train Loss: 0.0014 Valid Loss: 0.0046\n",
      "Epoch[97 / 1000] Train Loss: 0.0016 Valid Loss: 0.0040\n",
      "Epoch[98 / 1000] Train Loss: 0.0013 Valid Loss: 0.0045\n",
      "Epoch[99 / 1000] Train Loss: 0.0010 Valid Loss: 0.0033\n",
      "Epoch[100 / 1000] Train Loss: 0.0015 Valid Loss: 0.0086\n",
      "Epoch[101 / 1000] Train Loss: 0.0022 Valid Loss: 0.0025\n",
      "Epoch[102 / 1000] Train Loss: 0.0028 Valid Loss: 0.0049\n",
      "Epoch[103 / 1000] Train Loss: 0.0020 Valid Loss: 0.0037\n",
      "Epoch[104 / 1000] Train Loss: 0.0022 Valid Loss: 0.0037\n",
      "Epoch[105 / 1000] Train Loss: 0.0022 Valid Loss: 0.0070\n",
      "Epoch[106 / 1000] Train Loss: 0.0030 Valid Loss: 0.0082\n",
      "Epoch[107 / 1000] Train Loss: 0.0022 Valid Loss: 0.0036\n",
      "Epoch[108 / 1000] Train Loss: 0.0016 Valid Loss: 0.0089\n",
      "Epoch[109 / 1000] Train Loss: 0.0015 Valid Loss: 0.0061\n",
      "Epoch[110 / 1000] Train Loss: 0.0014 Valid Loss: 0.0052\n",
      "Epoch[111 / 1000] Train Loss: 0.0012 Valid Loss: 0.0052\n",
      "Epoch[112 / 1000] Train Loss: 0.0012 Valid Loss: 0.0037\n",
      "Epoch[113 / 1000] Train Loss: 0.0011 Valid Loss: 0.0064\n",
      "Epoch[114 / 1000] Train Loss: 0.0010 Valid Loss: 0.0035\n",
      "Epoch[115 / 1000] Train Loss: 0.0010 Valid Loss: 0.0058\n",
      "Epoch[116 / 1000] Train Loss: 0.0011 Valid Loss: 0.0032\n",
      "Epoch[117 / 1000] Train Loss: 0.0011 Valid Loss: 0.0055\n",
      "Epoch[118 / 1000] Train Loss: 0.0012 Valid Loss: 0.0040\n",
      "Epoch[119 / 1000] Train Loss: 0.0008 Valid Loss: 0.0048\n",
      "Epoch[120 / 1000] Train Loss: 0.0007 Valid Loss: 0.0042\n",
      "Epoch[121 / 1000] Train Loss: 0.0009 Valid Loss: 0.0065\n",
      "Epoch[122 / 1000] Train Loss: 0.0018 Valid Loss: 0.0037\n",
      "Epoch[123 / 1000] Train Loss: 0.0026 Valid Loss: 0.0066\n",
      "Epoch[124 / 1000] Train Loss: 0.0018 Valid Loss: 0.0045\n",
      "Epoch[125 / 1000] Train Loss: 0.0017 Valid Loss: 0.0060\n",
      "Epoch[126 / 1000] Train Loss: 0.0014 Valid Loss: 0.0053\n",
      "Epoch[127 / 1000] Train Loss: 0.0020 Valid Loss: 0.0043\n",
      "Epoch[128 / 1000] Train Loss: 0.0017 Valid Loss: 0.0049\n",
      "Epoch[129 / 1000] Train Loss: 0.0012 Valid Loss: 0.0044\n",
      "Epoch[130 / 1000] Train Loss: 0.0015 Valid Loss: 0.0035\n",
      "Epoch[131 / 1000] Train Loss: 0.0015 Valid Loss: 0.0034\n",
      "Epoch[132 / 1000] Train Loss: 0.0012 Valid Loss: 0.0049\n",
      "Epoch[133 / 1000] Train Loss: 0.0011 Valid Loss: 0.0042\n",
      "Epoch[134 / 1000] Train Loss: 0.0010 Valid Loss: 0.0032\n",
      "Epoch[135 / 1000] Train Loss: 0.0010 Valid Loss: 0.0043\n",
      "Epoch[136 / 1000] Train Loss: 0.0009 Valid Loss: 0.0031\n",
      "Epoch[137 / 1000] Train Loss: 0.0008 Valid Loss: 0.0054\n",
      "Epoch[138 / 1000] Train Loss: 0.0010 Valid Loss: 0.0033\n",
      "Epoch[139 / 1000] Train Loss: 0.0010 Valid Loss: 0.0039\n",
      "Epoch[140 / 1000] Train Loss: 0.0008 Valid Loss: 0.0047\n",
      "Epoch[141 / 1000] Train Loss: 0.0009 Valid Loss: 0.0024\n",
      "Epoch[142 / 1000] Train Loss: 0.0008 Valid Loss: 0.0044\n",
      "Epoch[143 / 1000] Train Loss: 0.0008 Valid Loss: 0.0035\n",
      "Epoch[144 / 1000] Train Loss: 0.0011 Valid Loss: 0.0030\n",
      "Epoch[145 / 1000] Train Loss: 0.0012 Valid Loss: 0.0050\n",
      "Epoch[146 / 1000] Train Loss: 0.0009 Valid Loss: 0.0028\n",
      "Epoch[147 / 1000] Train Loss: 0.0008 Valid Loss: 0.0036\n",
      "Epoch[148 / 1000] Train Loss: 0.0008 Valid Loss: 0.0048\n",
      "Epoch[149 / 1000] Train Loss: 0.0016 Valid Loss: 0.0050\n",
      "Epoch[150 / 1000] Train Loss: 0.0013 Valid Loss: 0.0048\n",
      "Epoch[151 / 1000] Train Loss: 0.0011 Valid Loss: 0.0042\n",
      "Epoch[152 / 1000] Train Loss: 0.0010 Valid Loss: 0.0053\n",
      "Epoch[153 / 1000] Train Loss: 0.0009 Valid Loss: 0.0029\n",
      "Epoch[154 / 1000] Train Loss: 0.0012 Valid Loss: 0.0062\n",
      "Epoch[155 / 1000] Train Loss: 0.0014 Valid Loss: 0.0040\n",
      "Epoch[156 / 1000] Train Loss: 0.0014 Valid Loss: 0.0065\n",
      "Epoch[157 / 1000] Train Loss: 0.0010 Valid Loss: 0.0043\n",
      "Epoch[158 / 1000] Train Loss: 0.0007 Valid Loss: 0.0050\n",
      "Epoch[159 / 1000] Train Loss: 0.0008 Valid Loss: 0.0037\n",
      "Epoch[160 / 1000] Train Loss: 0.0008 Valid Loss: 0.0038\n",
      "Epoch[161 / 1000] Train Loss: 0.0009 Valid Loss: 0.0056\n",
      "Epoch[162 / 1000] Train Loss: 0.0011 Valid Loss: 0.0032\n",
      "Epoch[163 / 1000] Train Loss: 0.0011 Valid Loss: 0.0056\n",
      "Epoch[164 / 1000] Train Loss: 0.0008 Valid Loss: 0.0035\n",
      "Epoch[165 / 1000] Train Loss: 0.0009 Valid Loss: 0.0052\n",
      "Epoch[166 / 1000] Train Loss: 0.0008 Valid Loss: 0.0033\n",
      "Epoch[167 / 1000] Train Loss: 0.0008 Valid Loss: 0.0056\n",
      "Epoch[168 / 1000] Train Loss: 0.0007 Valid Loss: 0.0039\n",
      "Epoch[169 / 1000] Train Loss: 0.0010 Valid Loss: 0.0054\n",
      "Epoch[170 / 1000] Train Loss: 0.0008 Valid Loss: 0.0052\n",
      "Epoch[171 / 1000] Train Loss: 0.0015 Valid Loss: 0.0045\n",
      "Epoch[172 / 1000] Train Loss: 0.0010 Valid Loss: 0.0044\n",
      "Epoch[173 / 1000] Train Loss: 0.0014 Valid Loss: 0.0053\n",
      "Epoch[174 / 1000] Train Loss: 0.0013 Valid Loss: 0.0050\n",
      "Epoch[175 / 1000] Train Loss: 0.0013 Valid Loss: 0.0041\n",
      "Epoch[176 / 1000] Train Loss: 0.0011 Valid Loss: 0.0046\n",
      "Epoch[177 / 1000] Train Loss: 0.0011 Valid Loss: 0.0060\n",
      "Epoch[178 / 1000] Train Loss: 0.0011 Valid Loss: 0.0049\n",
      "Epoch[179 / 1000] Train Loss: 0.0010 Valid Loss: 0.0043\n",
      "Epoch[180 / 1000] Train Loss: 0.0010 Valid Loss: 0.0057\n",
      "Epoch[181 / 1000] Train Loss: 0.0009 Valid Loss: 0.0032\n",
      "Epoch[182 / 1000] Train Loss: 0.0007 Valid Loss: 0.0061\n",
      "Epoch[183 / 1000] Train Loss: 0.0007 Valid Loss: 0.0044\n",
      "Epoch[184 / 1000] Train Loss: 0.0006 Valid Loss: 0.0054\n",
      "Epoch[185 / 1000] Train Loss: 0.0005 Valid Loss: 0.0040\n",
      "Epoch[186 / 1000] Train Loss: 0.0005 Valid Loss: 0.0053\n",
      "Epoch[187 / 1000] Train Loss: 0.0005 Valid Loss: 0.0045\n",
      "Epoch[188 / 1000] Train Loss: 0.0005 Valid Loss: 0.0051\n",
      "Epoch[189 / 1000] Train Loss: 0.0009 Valid Loss: 0.0052\n",
      "Epoch[190 / 1000] Train Loss: 0.0007 Valid Loss: 0.0052\n",
      "Epoch[191 / 1000] Train Loss: 0.0008 Valid Loss: 0.0055\n",
      "Epoch[192 / 1000] Train Loss: 0.0008 Valid Loss: 0.0065\n",
      "Epoch[193 / 1000] Train Loss: 0.0007 Valid Loss: 0.0047\n",
      "Epoch[194 / 1000] Train Loss: 0.0006 Valid Loss: 0.0047\n",
      "Epoch[195 / 1000] Train Loss: 0.0006 Valid Loss: 0.0041\n",
      "Epoch[196 / 1000] Train Loss: 0.0005 Valid Loss: 0.0050\n",
      "Epoch[197 / 1000] Train Loss: 0.0005 Valid Loss: 0.0050\n",
      "Epoch[198 / 1000] Train Loss: 0.0005 Valid Loss: 0.0056\n",
      "Epoch[199 / 1000] Train Loss: 0.0005 Valid Loss: 0.0043\n",
      "Epoch[200 / 1000] Train Loss: 0.0006 Valid Loss: 0.0044\n",
      "Epoch[201 / 1000] Train Loss: 0.0005 Valid Loss: 0.0056\n",
      "Epoch[202 / 1000] Train Loss: 0.0007 Valid Loss: 0.0054\n",
      "Epoch[203 / 1000] Train Loss: 0.0006 Valid Loss: 0.0052\n",
      "Epoch[204 / 1000] Train Loss: 0.0006 Valid Loss: 0.0046\n",
      "Epoch[205 / 1000] Train Loss: 0.0012 Valid Loss: 0.0051\n",
      "Epoch[206 / 1000] Train Loss: 0.0012 Valid Loss: 0.0053\n",
      "Epoch[207 / 1000] Train Loss: 0.0010 Valid Loss: 0.0065\n",
      "Epoch[208 / 1000] Train Loss: 0.0024 Valid Loss: 0.0060\n",
      "Epoch[209 / 1000] Train Loss: 0.0010 Valid Loss: 0.0039\n",
      "Epoch[210 / 1000] Train Loss: 0.0014 Valid Loss: 0.0068\n",
      "Epoch[211 / 1000] Train Loss: 0.0010 Valid Loss: 0.0040\n",
      "Epoch[212 / 1000] Train Loss: 0.0007 Valid Loss: 0.0052\n",
      "Epoch[213 / 1000] Train Loss: 0.0008 Valid Loss: 0.0057\n",
      "Epoch[214 / 1000] Train Loss: 0.0007 Valid Loss: 0.0045\n",
      "Epoch[215 / 1000] Train Loss: 0.0007 Valid Loss: 0.0068\n"
     ]
    }
   ],
   "source": [
    "losses = []\n",
    "val_losses = []\n",
    "train_acc = []\n",
    "val_acc = []\n",
    "for epoch in range(epochs):\n",
    "    # スケジューラで学習率を更新する\n",
    "    new_lr = lr_plan(epoch)\n",
    "    set_lr(new_lr, optimizer)\n",
    "\n",
    "    total_train_loss = 0.\n",
    "    total_valid_loss = 0.\n",
    "\n",
    "    # モデルの訓練\n",
    "    for x in train_dl:\n",
    "        step_count += 1\n",
    "        model.train()\n",
    "        x = x.to(device)\n",
    "\n",
    "        rec_img, mask = model(x)\n",
    "        train_loss = torch.mean((rec_img - x) ** 2 * mask) / config[\"mask_ratio\"]\n",
    "        train_loss.backward()\n",
    "\n",
    "        if step_count % 8 == 0:  # 8イテレーションごとに更新することで，擬似的にバッチサイズを大きくしている\n",
    "            optimizer.step()\n",
    "            optimizer.zero_grad()\n",
    "\n",
    "        total_train_loss += train_loss.item()\n",
    "    losses.append(total_train_loss)\n",
    "\n",
    "    # モデルの評価\n",
    "    with torch.no_grad():\n",
    "        for x in valid_dl:\n",
    "            model.eval()\n",
    "\n",
    "            with torch.no_grad():\n",
    "                x = x.to(device)\n",
    "\n",
    "                rec_img, mask = model(x)\n",
    "                valid_loss = torch.mean((rec_img - x) ** 2 * mask) / config[\"mask_ratio\"]\n",
    "\n",
    "                total_valid_loss += valid_loss.item()\n",
    "    val_losses.append(total_valid_loss)\n",
    "\n",
    "\n",
    "    print(f\"Epoch[{epoch+1} / {epochs}] Train Loss: {total_train_loss/len(train_dl):.4f} Valid Loss: {total_valid_loss/len(valid_dl):.4f}\")\n",
    "    if epoch % 500 == 499:\n",
    "        # モデルを保存しておく\n",
    "        torch.save(model.state_dict(), os.path.join(SaveDir,\"mae_speed100_patch{patch}_emb{emb}_enc{layers}layers_{epoch}.pth\".format(patch=config[\"numPatches\"],emb=config[\"emb_dim\"],layers=config[\"enc_layers\"],epoch=epoch+1)))"
   ]
  },
  {
   "cell_type": "markdown",
   "metadata": {},
   "source": [
    "## loss plot"
   ]
  },
  {
   "cell_type": "code",
   "execution_count": null,
   "metadata": {},
   "outputs": [
    {
     "name": "stderr",
     "output_type": "stream",
     "text": [
      "C:\\Users\\Furukawa\\AppData\\Local\\Temp\\ipykernel_35560\\178518234.py:6: UserWarning: Matplotlib is currently using module://matplotlib_inline.backend_inline, which is a non-GUI backend, so cannot show the figure.\n",
      "  fig.show()\n"
     ]
    },
    {
     "data": {
      "image/png": "[encoded data removed]",
      "text/plain": [
       "<Figure size 800x400 with 1 Axes>"
      ]
     },
     "metadata": {},
     "output_type": "display_data"
    }
   ],
   "source": [
    "fig,ax = plt.subplots(figsize=(8,4))\n",
    "ax.plot(losses,color=\"b\",label=\"Loss\")\n",
    "ax.plot(val_losses,color=\"r\",label=\"val loss\")\n",
    "ax.set_ylim(0,0.5)\n",
    "ax.legend()\n",
    "fig.show()"
   ]
  },
  {
   "cell_type": "markdown",
   "metadata": {},
   "source": [
    "# Postprocess"
   ]
  },
  {
   "cell_type": "markdown",
   "metadata": {},
   "source": [
    "## load model"
   ]
  },
  {
   "cell_type": "code",
   "execution_count": 7,
   "metadata": {},
   "outputs": [],
   "source": [
    "NUM_EPOCH=1000\n",
    "speed=100\n",
    "patch=config[\"numPatches\"]\n",
    "emb_dim = config[\"emb_dim\"]\n",
    "enc_layer=config[\"enc_layers\"]\n",
    "\n",
    "modelPath = r\"C:\\Users\\Furukawa\\Documents\\TechAssistant\\ML_results\\vit\\mae_speed{speed}_patch{patch}_emb{emb_dim}_enc{enc_layer}layers_{epoch}.pth\".format(speed=speed,patch=patch,emb_dim=emb_dim,enc_layer=enc_layer,epoch=NUM_EPOCH)\n",
    "\n",
    "model = mae.MAE_ViT(**config).to(device)\n",
    "model.load_state_dict(torch.load(modelPath, map_location=device))\n",
    "\n",
    "model.eval()\n",
    "x = next(iter(test_dl))\n",
    "with torch.no_grad():\n",
    "    rec_img, mask = model(x.to(device))\n",
    "\n",
    "x, rec_img, mask = x.to(\"cpu\"), rec_img.to(\"cpu\"), mask.to(\"cpu\")"
   ]
  },
  {
   "cell_type": "code",
   "execution_count": 13,
   "metadata": {},
   "outputs": [
    {
     "name": "stdout",
     "output_type": "stream",
     "text": [
      "63.0\n",
      "(6561,)\n",
      "1's imgs mean difference : 18.5, std : 62.5\n",
      "\n",
      "72.5\n",
      "(6561,)\n",
      "2's imgs mean difference : 8.0, std : 38.2\n",
      "\n",
      "average difference : 13.2, average std : 50.4\n",
      "\n"
     ]
    },
    {
     "name": "stderr",
     "output_type": "stream",
     "text": [
      "c:\\Users\\Furukawa\\Documents\\TechAssistant\\code_kawawaki\\MLmodel\\evaluation_reconstruction.py:111: UserWarning: Matplotlib is currently using module://matplotlib_inline.backend_inline, which is a non-GUI backend, so cannot show the figure.\n",
      "  fig.show()\n"
     ]
    },
    {
     "data": {
      "image/png": "[encoded data removed]",
      "text/plain": [
       "<Figure size 1000x1000 with 2 Axes>"
      ]
     },
     "metadata": {},
     "output_type": "display_data"
    }
   ],
   "source": [
    "saveDir = r\"C:\\Users\\Furukawa\\Documents\\TechAssistant\\ML_results\\mae\\patches{patch}\\emb{emb_dim}_IR1000_B500_S{speed}\".format(patch=patch,emb_dim=emb_dim,speed=speed)\n",
    "evaluation = eva.EvaluateFrameEstimation(batch_size=2,test_dl=test_dl,model=model,pretrainedModel=modelPath,device=device,saveDir=saveDir,maskThreshold=60,graphYmax=150, debug=True)"
   ]
  },
  {
   "cell_type": "markdown",
   "metadata": {},
   "source": [
    "## Visualize AttentionMap"
   ]
  },
  {
   "cell_type": "code",
   "execution_count": 11,
   "metadata": {},
   "outputs": [],
   "source": [
    "def display_attn_map(model, x):\n",
    "    # Encoderの最後のattention mapを取得\n",
    "    attn = model.get_last_selfattention(x[0].unsqueeze(0).to(device))\n",
    "\n",
    "    # Nはパッチの数\n",
    "    # (1, num_head, N+1, N+1) -> (num_head, N)\n",
    "    num_head = config[\"enc_heads\"]\n",
    "    attn = attn[0, :, 0, 1:].reshape(num_head, -1)  # cls tokenに対するスコアを抽出\n",
    "\n",
    "    val, idx = torch.sort(attn)  # スコアを昇順でソート\n",
    "    val /= torch.sum(val, dim=1, keepdim=True)  # スコアを[0-1]で正規化する\n",
    "\n",
    "    # 累積和をとりスコアの合計が0.6ほどになるように残す\n",
    "    cumval = torch.cumsum(val, dim=1)\n",
    "    attn = cumval > (1 - 0.4)\n",
    "    backward_indexes = torch.argsort(idx)\n",
    "\n",
    "    # ソートしたものを戻す\n",
    "    for head in range(num_head):\n",
    "        attn[head] = attn[head][backward_indexes[head]]\n",
    "\n",
    "    # スコアを画像の形にする\n",
    "    w_featmap, h_featmap = config[\"image_size\"][0] // config[\"patch_size\"][0], config[\"image_size\"][1] // config[\"patch_size\"][1]\n",
    "    attn = attn.reshape(num_head, h_featmap, w_featmap).float()\n",
    "\n",
    "    # 入力画像と同じ大きさにする\n",
    "    attn = nn.functional.interpolate(attn.unsqueeze(0), scale_factor=config[\"patch_size\"][0], mode=\"nearest\")[0].detach().cpu().numpy()\n",
    "\n",
    "    # 入力画像とヘッドごとのattention mapを出力する\n",
    "    fig = plt.figure(figsize=(6, 10))\n",
    "    fig.subplots_adjust(left=0, right=1, bottom=0, top=0.5, hspace=0.05,\n",
    "                        wspace=0.05)\n",
    "\n",
    "    img = (x[0].data + 1) / 2\n",
    "    print(img.shape)\n",
    "    img = np.array(img)\n",
    "    img = img.transpose(1,2,0) #[Channel, H,W] -> [H,W,Channel]\n",
    "    img = cv2.cvtColor(img,cv2.COLOR_GRAY2BGR)\n",
    "    #img = np.clip(np.transpose(torch.squeeze(img).numpy(), (0,1)), 0, 1) #gray scale\n",
    "    img = np.clip(img,0,1)\n",
    "    ax = fig.add_subplot(4, 3, 1, xticks=[], yticks=[])\n",
    "    ax.imshow(img)\n",
    "\n",
    "    for i in range(len(attn)):\n",
    "        featmap = attn[i]\n",
    "        featmap = np.concatenate((featmap[:,:,np.newaxis], np.zeros((243, 243, 2))), axis=2)\n",
    "        ax = fig.add_subplot(4, 3, i+4, xticks=[], yticks=[])\n",
    "        ax.imshow(img)\n",
    "        ax.imshow(featmap, alpha=0.5)\n"
   ]
  },
  {
   "cell_type": "code",
   "execution_count": 12,
   "metadata": {},
   "outputs": [
    {
     "name": "stdout",
     "output_type": "stream",
     "text": [
      "torch.Size([1, 243, 243])\n"
     ]
    },
    {
     "data": {
      "image/png": "[encoded data removed]",
      "text/plain": [
       "<Figure size 600x1000 with 3 Axes>"
      ]
     },
     "metadata": {},
     "output_type": "display_data"
    }
   ],
   "source": [
    "#preTrainedModel = r\"C:\\Users\\Furukawa\\Documents\\TechAssistant\\ML_results\\vit\\mae_patch27_27_emb128_enc12layers_1000.pth\"\n",
    "#model = mae.MAE_ViT(**config).to(device)\n",
    "#model.load_state_dict(torch.load(preTrainedModel), map_location=device)\n",
    "model.eval()\n",
    "for _ in range(1):\n",
    "    x= next(iter(test_dl))  # 検証用データからデータを取得する\n",
    "\n",
    "display_attn_map(model, x)"
   ]
  },
  {
   "cell_type": "markdown",
   "metadata": {},
   "source": [
    "# Visition Transformer :: Classifier"
   ]
  },
  {
   "cell_type": "markdown",
   "metadata": {},
   "source": [
    "## load ViT dataset"
   ]
  },
  {
   "cell_type": "code",
   "execution_count": null,
   "metadata": {},
   "outputs": [],
   "source": [
    "SRC_TRAIN=r\"C:\\Users\\Furukawa\\Documents\\TechAssistant\\dataset\\csv\\ViT\\MAE_spatterframe_estimation\\train_IR1000_B500_S200.csv\"\n",
    "SRC_TEST=r\"C:\\Users\\Furukawa\\Documents\\TechAssistant\\dataset\\csv\\ViT\\MAE_spatterframe_estimation\\test_IR1000_B500_S200.csv\"\n",
    "#SRC_TRAIN=r\"C:\\Users\\Furukawa\\Documents\\TechAssistant\\dataset\\csv\\ViT\\MAE_spatterframe_estimation\\train.csv\"\n",
    "#SRC_TEST=r\"C:\\Users\\Furukawa\\Documents\\TechAssistant\\dataset\\csv\\ViT\\MAE_spatterframe_estimation\\test.csv\"\n",
    "\n",
    "SCALE_X = 243/240\n",
    "SCALE_Y = 243/240\n",
    "IMG_SIZE = 240\n",
    "\n",
    "dataset = Dataset(scale_x = SCALE_X,scale_y = SCALE_Y,img_size=IMG_SIZE,src_train=SRC_TRAIN,src_test=SRC_TEST)\n",
    "img_train = dataset.img_train\n",
    "label_train = dataset.label_train\n",
    "img_valid = dataset.img_valid\n",
    "label_valid = dataset.label_valid\n",
    "img_test = dataset.img_test\n",
    "label_test = dataset.label_test"
   ]
  },
  {
   "cell_type": "code",
   "execution_count": null,
   "metadata": {},
   "outputs": [],
   "source": [
    "WIDTH =int(IMG_SIZE * SCALE_X)\n",
    "HEIGHT = int(IMG_SIZE * SCALE_Y)\n",
    "\n",
    "class Process(torch.utils.data.Dataset):\n",
    "    def __init__(self, x_train, t_train,width = WIDTH, height = HEIGHT):\n",
    "        self.x_train = x_train#.reshape(-1,1,width,height)#.astype('float32') / 255\n",
    "        self.t_train = t_train\n",
    "\n",
    "    def __len__(self):\n",
    "        return self.x_train.shape[0]\n",
    "\n",
    "    def __getitem__(self, idx):\n",
    "        return torch.tensor(self.x_train[idx], dtype=torch.float), torch.tensor(self.t_train[idx], dtype=torch.long)\n",
    "\n",
    "train_data = Process(img_train, label_train)\n",
    "valid_data = Process(img_valid, label_valid)\n",
    "test_data = Process(img_test,label_test)"
   ]
  },
  {
   "cell_type": "code",
   "execution_count": null,
   "metadata": {},
   "outputs": [],
   "source": [
    "BATCH_SIZE = 64\n",
    "\n",
    "dataloader_train = torch.utils.data.DataLoader(\n",
    "    train_data,\n",
    "    batch_size=BATCH_SIZE,\n",
    "    shuffle=True\n",
    ")\n",
    "\n",
    "dataloader_valid = torch.utils.data.DataLoader(\n",
    "    valid_data,\n",
    "    batch_size=BATCH_SIZE,\n",
    "    shuffle=True\n",
    ")\n",
    "\n",
    "dataloader_test = torch.utils.data.DataLoader(\n",
    "    test_data,\n",
    "    batch_size=BATCH_SIZE,\n",
    "    shuffle=False\n",
    ")"
   ]
  },
  {
   "cell_type": "markdown",
   "metadata": {},
   "source": [
    "## Hyperparameters setting \n",
    "    - same as MAE model"
   ]
  },
  {
   "cell_type": "markdown",
   "metadata": {},
   "source": [
    "### 27*27 patches"
   ]
  },
  {
   "cell_type": "code",
   "execution_count": null,
   "metadata": {},
   "outputs": [],
   "source": [
    "config = {\n",
    "    \"image_size\": [243, 243], # original image size\n",
    "    \"patch_size\": [9, 9], #size of 1 patch :: [height, width], default :: if 27*27 patches -> [9,9], 81*81 patches -> [3,3]\n",
    "    \"emb_dim\": 128,#embedding dimensions :: vector dimension per 1 patch\n",
    "    \"enc_layers\": 12, #encoder :: number of dense layers\n",
    "    \"enc_heads\": 2,# encoder :: number of attention heads :: enc_heads*enc_dim_head = enc_mlp_dim\n",
    "    \"enc_dim_head\": 64,#encoder :: attention head dimension :: default = 64\n",
    "    \"enc_mlp_dim\": 128,#encoder :: dimension of multiple perceptron layers(= dense layer) default :: 192,\n",
    "    \"dec_layers\": 4, # number of dense layers in decoder\n",
    "    \"dec_heads\": 2,# number of attention heads :: dec_heads * dec_dim_head = dec_mlp_dim seems to be good equation\n",
    "    \"dec_dim_head\": 64, #decoder attention head dimension :: default = 64\n",
    "    \"dec_mlp_dim\":128,#decoder dimenstion of multiple layer perceptron :: default = 128\n",
    "    \"numPatches\":27,#number of patches :: 27 or 81\n",
    "    \"mask_ratio\": 1/9, #mask ratio :: how much ratio is masked to a image :: default -> only last frame(spatter frame) is masked\n",
    "    \"dropout\": 0. #dense layer :: dropout rate\n",
    "}"
   ]
  },
  {
   "cell_type": "markdown",
   "metadata": {},
   "source": [
    "### for 81*81patches"
   ]
  },
  {
   "cell_type": "code",
   "execution_count": null,
   "metadata": {},
   "outputs": [],
   "source": [
    "config = {\n",
    "    \"image_size\": [243, 243], # original image size\n",
    "    \"patch_size\": [3, 3], #size of 1 patch :: [height, width], default :: if 27*27 patches -> [9,9], 81*81 patches -> [3,3]\n",
    "    \"emb_dim\": 27,#embedding dimensions :: vector dimension per 1 patch\n",
    "    \"enc_layers\": 4, #encoder :: number of dense layers\n",
    "    \"enc_heads\": 3,# encoder :: number of attention heads :: enc_heads*enc_dim_head = enc_mlp_dim\n",
    "    \"enc_dim_head\": 9,#encoder :: attention head dimension :: default = 64\n",
    "    \"enc_mlp_dim\": 27,#encoder :: dimension of multiple perceptron layers(= dense layer) default :: 192,\n",
    "    \"dec_layers\": 4, # number of dense layers in decoder\n",
    "    \"dec_heads\": 3,# number of attention heads :: dec_heads * dec_dim_head = dec_mlp_dim seems to be good equation\n",
    "    \"dec_dim_head\": 9, #decoder attention head dimension :: default = 64\n",
    "    \"dec_mlp_dim\":27,#decoder dimenstion of multiple layer perceptron :: default = 128\n",
    "    \"numPatches\":81,#number of patches :: 27 or 81\n",
    "    \"mask_ratio\": 1/9, #mask ratio :: how much ratio is masked to a image :: default -> only last frame(spatter frame) is masked\n",
    "    \"dropout\": 0. #dense layer :: dropout rate\n",
    "}"
   ]
  },
  {
   "cell_type": "code",
   "execution_count": null,
   "metadata": {},
   "outputs": [],
   "source": [
    "modelPath=r\"C:\\Users\\Furukawa\\Documents\\TechAssistant\\ML_results\\mae\\patches{patch}\\emb{emb_dim}_IR1000_B500_S{speed}\".format(patch=patch,emb_dim=emb_dim,speed=speed)\n",
    "device = \"cuda\" if torch.cuda.is_available() else \"cpu\""
   ]
  },
  {
   "cell_type": "code",
   "execution_count": null,
   "metadata": {},
   "outputs": [],
   "source": [
    "pretrained_MAE = mae.MAE_ViT(**config).to(device)\n",
    "pretrained_MAE.load_state_dict(torch.load(modelPath, map_location=device))\n",
    "\n",
    "encoder = pretrained_MAE.encoder #mae.encoder#pretrained_model.encoder\n",
    "\n",
    "# モデルの定義\n",
    "model = mae.ViT_Classifier(encoder).to(device)"
   ]
  },
  {
   "cell_type": "markdown",
   "metadata": {},
   "source": [
    "## Trainer"
   ]
  },
  {
   "cell_type": "markdown",
   "metadata": {},
   "source": [
    "### learning setting"
   ]
  },
  {
   "cell_type": "code",
   "execution_count": null,
   "metadata": {},
   "outputs": [],
   "source": [
    "epochs = 1000\n",
    "lr = 0.01#0.0005\n",
    "warmup_length = 100\n",
    "batch_size = 64\n",
    "optimizer = optim.AdamW(model.head.parameters(), lr=lr, betas=(0.9, 0.999), weight_decay=0.05)  # 分類器部分のみ学習\n",
    "lr_plan = sche.CosineScheduler(epochs, lr, warmup_length)\n",
    "criterion = nn.CrossEntropyLoss()\n",
    "\n",
    "saveDir = r\"C:\\Users\\Furukawa\\Documents\\TechAssistant\\ML_results\\vit\""
   ]
  },
  {
   "cell_type": "markdown",
   "metadata": {},
   "source": [
    "### Train"
   ]
  },
  {
   "cell_type": "code",
   "execution_count": null,
   "metadata": {},
   "outputs": [],
   "source": [
    "step_count = 0\n",
    "losses = []\n",
    "val_losses = []\n",
    "accuracies = []\n",
    "val_accuracies = []\n",
    "for epoch in range(epochs):\n",
    "    new_lr = lr_plan(epoch)\n",
    "    set_lr(new_lr, optimizer)\n",
    "\n",
    "    total_train_loss = 0.\n",
    "    total_train_acc = 0.\n",
    "    total_valid_loss = 0.\n",
    "    total_valid_acc = 0.\n",
    "    for x, t in dataloader_train:\n",
    "        step_count += 1\n",
    "        x, t = x.to(device), t.to(device)\n",
    "        pred = model(x)\n",
    "\n",
    "        train_loss = criterion(pred, t)\n",
    "        train_acc = (torch.argmax(pred, dim=1) == t).float().mean().cpu()\n",
    "\n",
    "        optimizer.zero_grad()\n",
    "        train_loss.backward()\n",
    "        optimizer.step()\n",
    "\n",
    "        total_train_loss += train_loss.item()\n",
    "        total_train_acc += train_acc\n",
    "    losses.append(total_train_loss/len(dataloader_train))\n",
    "    accuracies.append(total_train_acc/len(dataloader_train))\n",
    "\n",
    "    with torch.no_grad():\n",
    "        for x, t in dataloader_valid:\n",
    "            x, t = x.to(device), t.to(device)\n",
    "            pred = model(x)\n",
    "\n",
    "            valid_loss = criterion(pred, t)\n",
    "            valid_acc = (torch.argmax(pred, dim=1) == t).float().mean().cpu()\n",
    "\n",
    "            total_valid_loss += valid_loss.item()\n",
    "            total_valid_acc += valid_acc\n",
    "    val_losses.append(total_valid_loss/len(dataloader_valid))\n",
    "    val_accuracies.append(total_valid_acc/len(dataloader_valid))\n",
    "    print(f\"Epoch[{epoch+1} / {epochs}]\",\n",
    "          f\"Train Loss: {total_train_loss/len(dataloader_train):.4f}\",\n",
    "          f\"Train Acc.: {total_train_acc/len(dataloader_train):.4f}\",\n",
    "          f\"Valid Loss: {total_valid_loss/len(dataloader_valid):.4f}\",\n",
    "          f\"Valid Acc.: {total_valid_acc/len(dataloader_valid):.4f}\")\n",
    "\n",
    "    if epoch %200 == 199:\n",
    "        torch.save(model.state_dict(), os.path.join(saveDir,\"vit_patch{patch}_emb{emb_dim}_enc{layers}layers_epoch{epoch}.pth\".format(patch=config[\"numPatches\"],emb=config[\"emb_dim\"],layers=config[\"enc_layers\"],epoch+1)))"
   ]
  },
  {
   "cell_type": "markdown",
   "metadata": {},
   "source": [
    "## Plot Loss&Accuracy"
   ]
  },
  {
   "cell_type": "code",
   "execution_count": null,
   "metadata": {},
   "outputs": [],
   "source": [
    "fig,ax = plt.subplots(1,2,figsize=(8,4))\n",
    "ax[0].plot(losses,color=\"b\",label=\"Loss\")\n",
    "ax[0].plot(val_losses,color=\"r\",label=\"val loss\")\n",
    "#ax[0].set_ylim(0,0.7)\n",
    "ax[0].legend()\n",
    "ax[1].plot(accuracies,color=\"b\",label=\"accuracy\")\n",
    "ax[1].plot(val_accuracies,color=\"r\",label=\"val accuracy\")\n",
    "#ax[1].set_ylim(0,0.7)\n",
    "ax[1].legend()\n",
    "fig.show()"
   ]
  },
  {
   "cell_type": "markdown",
   "metadata": {},
   "source": [
    "## Evaluate with TestData"
   ]
  },
  {
   "cell_type": "code",
   "execution_count": null,
   "metadata": {},
   "outputs": [],
   "source": [
    "total_test_loss = 0.\n",
    "total_test_acc = 0.\n",
    "total_spatter_pred = 0\n",
    "total_spatter_label = 0\n",
    "true_pred = 0\n",
    "true_label = 0\n",
    "with torch.no_grad():\n",
    "    for x, t in dataloader_test:\n",
    "        x, t = x.to(device), t.to(device)\n",
    "        pred = model(x)\n",
    "        test_loss = criterion(pred, t)\n",
    "        #print(torch.argmax(pred, dim=1)[0])\n",
    "        #print(t[0]==torch.argmax(pred, dim=1)[0])\n",
    "        #predict spatter:\n",
    "        if torch.argmax(pred,dim=1)[0] == 1:\n",
    "            if t[0] == 0:\n",
    "                total_spatter_pred += 1\n",
    "            elif t[0] == 1:\n",
    "                total_spatter_pred += 1\n",
    "                total_spatter_label += 1\n",
    "                true_pred += 1\n",
    "        #predict non spatter\n",
    "        else:\n",
    "            #false negative\n",
    "            if t[0] == 1:\n",
    "                total_spatter_label += 1\n",
    "        #if torch.arg\n",
    "        test_acc = (torch.argmax(pred, dim=1) == t).float().mean().cpu()\n",
    "        total_test_loss += test_loss.item()\n",
    "        total_test_acc += test_acc\n",
    "\n",
    "precision = ((true_pred)/total_spatter_pred)\n",
    "recall = ((true_pred)/total_spatter_label)\n",
    "f1 = 2*precision*recall/(precision+recall)\n",
    "print(f\"Test Loss: {total_test_loss/len(dataloader_test):.4f}\",f\"Test Acc.: {total_test_acc/len(dataloader_test):.4f}\",\n",
    "      f\"Test Precision : {precision:.4f}\",f\"Test Recall : {recall:.4f}\",f\"Test F-value : {f1:.4f}\")"
   ]
  },
  {
   "cell_type": "markdown",
   "metadata": {},
   "source": [
    "## Visualize Attention map"
   ]
  },
  {
   "cell_type": "code",
   "execution_count": null,
   "metadata": {},
   "outputs": [],
   "source": [
    "def display_attn_map(model, x):\n",
    "    # Encoderの最後のattention mapを取得\n",
    "    attn = model.get_last_selfattention(x[0].unsqueeze(0).to(device))\n",
    "\n",
    "    # Nはパッチの数\n",
    "    # (1, num_head, N+1, N+1) -> (num_head, N)\n",
    "    num_head = config[\"enc_heads\"]\n",
    "    attn = attn[0, :, 0, 1:].reshape(num_head, -1)  # cls tokenに対するスコアを抽出\n",
    "\n",
    "    val, idx = torch.sort(attn)  # スコアを昇順でソート\n",
    "    val /= torch.sum(val, dim=1, keepdim=True)  # スコアを[0-1]で正規化する\n",
    "\n",
    "    # 累積和をとりスコアの合計が0.6ほどになるように残す\n",
    "    cumval = torch.cumsum(val, dim=1)\n",
    "    attn = cumval > (1 - 0.4)\n",
    "    backward_indexes = torch.argsort(idx)\n",
    "\n",
    "    # ソートしたものを戻す\n",
    "    for head in range(num_head):\n",
    "        attn[head] = attn[head][backward_indexes[head]]\n",
    "\n",
    "    # スコアを画像の形にする\n",
    "    w_featmap, h_featmap = config[\"image_size\"][0] // config[\"patch_size\"][0], config[\"image_size\"][1] // config[\"patch_size\"][1]\n",
    "    attn = attn.reshape(num_head, h_featmap, w_featmap).float()\n",
    "\n",
    "    # 入力画像と同じ大きさにする\n",
    "    attn = nn.functional.interpolate(attn.unsqueeze(0), scale_factor=config[\"patch_size\"][0], mode=\"nearest\")[0].detach().cpu().numpy()\n",
    "\n",
    "    # 入力画像とヘッドごとのattention mapを出力する\n",
    "    fig = plt.figure(figsize=(6, 10))\n",
    "    fig.subplots_adjust(left=0, right=1, bottom=0, top=0.5, hspace=0.05,\n",
    "                        wspace=0.05)\n",
    "\n",
    "    img = (x[0].data + 1) / 2\n",
    "    img = np.clip(np.transpose(torch.squeeze(img).cpu().numpy(), (0,1)), 0, 1)\n",
    "    ax = fig.add_subplot(2, 3, 1, xticks=[], yticks=[])\n",
    "    ax.imshow(img)\n",
    "\n",
    "    for i in range(len(attn)):\n",
    "        featmap = attn[i]\n",
    "        featmap = np.concatenate((featmap[:,:,np.newaxis], np.zeros((240, 240, 3))), axis=2)\n",
    "        ax = fig.add_subplot(2, 3, i+4, xticks=[], yticks=[])\n",
    "        ax.imshow(img)\n",
    "        ax.imshow(featmap, alpha=0.5)"
   ]
  },
  {
   "cell_type": "code",
   "execution_count": null,
   "metadata": {},
   "outputs": [],
   "source": [
    "#mae = MAE_ViT(**config).to(device)\n",
    "#encoder = mae.encoder\n",
    "\n",
    "# モデルの定義\n",
    "#model = ViT_Classifier(encoder).to(device)\n",
    "#model.load_state_dict(torch.load(\"/content/drive/MyDrive/Colab Notebooks/DLBasics2023_colab/Lecture09/model/ViT_supervised_params.pth\", map_location=device))\n",
    "model.eval()\n",
    "for i in range(100):\n",
    "    if i %10 == 9:\n",
    "        x,t = next(iter(dataloader_test))\n",
    "        display_attn_map(model, x)"
   ]
  }
 ],
 "metadata": {
  "kernelspec": {
   "display_name": "furukawa",
   "language": "python",
   "name": "python3"
  },
  "language_info": {
   "codemirror_mode": {
    "name": "ipython",
    "version": 3
   },
   "file_extension": ".py",
   "mimetype": "text/x-python",
   "name": "python",
   "nbconvert_exporter": "python",
   "pygments_lexer": "ipython3",
   "version": "3.11.4"
  },
  "orig_nbformat": 4
 },
 "nbformat": 4,
 "nbformat_minor": 2
}
